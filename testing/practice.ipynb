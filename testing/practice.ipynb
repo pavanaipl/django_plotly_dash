{
 "cells": [
  {
   "cell_type": "code",
   "execution_count": 3,
   "metadata": {},
   "outputs": [],
   "source": [
    "import pandas as pd\n",
    "import matplotlib.pyplot as plt\n",
    "import seaborn as sns\n",
    "import plotly.graph_objs as go\n",
    "from plotly.offline import iplot\n",
    "\n",
    "def testingdata():\n",
    "    timesData = pd.read_csv('/Users/appiness/Downloads/student_marks.csv')\n",
    "    df = timesData.iloc[:100,:]\n",
    "    trace2 = go.Scatter(\n",
    "        x=df.Biology,\n",
    "        y=df.English,\n",
    "        mode=\"lines+markers\",\n",
    "        name=\"Marks\",\n",
    "        marker=dict(color='rgba(80, 26, 80, 0.8)'),\n",
    "        text=df.Name)\n",
    "    data = [trace2]\n",
    "    layout = dict(title='Student Marks',\n",
    "                  xaxis=dict(title='Biology', ticklen=5, zeroline=False),\n",
    "                  yaxis= dict(title='English', ticklen=5, zeroline=False),\n",
    "                  hovermode='closest'\n",
    "                  )\n",
    "    return {\"data\": data, \"layout\": layout}\n",
    "    \n"
   ]
  },
  {
   "cell_type": "code",
   "execution_count": 5,
   "metadata": {},
   "outputs": [],
   "source": [
    "def test():\n",
    "    a = 10\n",
    "    return a"
   ]
  },
  {
   "cell_type": "code",
   "execution_count": 6,
   "metadata": {},
   "outputs": [
    {
     "name": "stdout",
     "output_type": "stream",
     "text": [
      "10\n"
     ]
    }
   ],
   "source": [
    "b = test()\n",
    "print (b)"
   ]
  },
  {
   "cell_type": "code",
   "execution_count": null,
   "metadata": {},
   "outputs": [],
   "source": []
  }
 ],
 "metadata": {
  "kernelspec": {
   "display_name": "Python 3",
   "language": "python",
   "name": "python3"
  },
  "language_info": {
   "codemirror_mode": {
    "name": "ipython",
    "version": 3
   },
   "file_extension": ".py",
   "mimetype": "text/x-python",
   "name": "python",
   "nbconvert_exporter": "python",
   "pygments_lexer": "ipython3",
   "version": "3.7.3"
  }
 },
 "nbformat": 4,
 "nbformat_minor": 2
}
